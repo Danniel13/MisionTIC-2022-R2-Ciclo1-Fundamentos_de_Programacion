{
 "cells": [
  {
   "cell_type": "code",
   "execution_count": 37,
   "metadata": {},
   "outputs": [],
   "source": [
    "## Precedencia en operadores aritméticos\n",
    "\n",
    "#1. **Paréntesis** ( )\n",
    "#2. **Exponenciación** **\n",
    "#3. **Negación de expresiones** -\n",
    "#4. **Multiplicación** *, **División** /, **División entera** //, **Módulo** %\n",
    "#5. **Adición** +, **Sustracción** -\n",
    "#6. **Asignación** =\n"
   ]
  },
  {
   "cell_type": "code",
   "execution_count": 38,
   "metadata": {},
   "outputs": [
    {
     "name": "stdout",
     "output_type": "stream",
     "text": [
      "9\n",
      "<class 'float'>\n"
     ]
    }
   ],
   "source": [
    "#Ejercicio 1\n",
    "A= 6 / 2 \n",
    "B=  1 + 2 \n",
    "C= ((A*B))\n",
    "print(int(C))\n",
    "print(type(C))"
   ]
  },
  {
   "cell_type": "code",
   "execution_count": 39,
   "metadata": {},
   "outputs": [
    {
     "name": "stdout",
     "output_type": "stream",
     "text": [
      "9.0\n"
     ]
    }
   ],
   "source": [
    "#Ejercicio 1\n",
    "print(6 / 2 * ( 1 + 2 ))\n",
    "\n",
    "#La operación se realiza de izquierda a derecha\n",
    "#Primero se realiza la operación de los parentesis\n",
    "#Multiplicación y división tienen la misma jerarquia\n",
    "#"
   ]
  },
  {
   "cell_type": "code",
   "execution_count": 40,
   "metadata": {},
   "outputs": [
    {
     "name": "stdout",
     "output_type": "stream",
     "text": [
      "5950.0\n"
     ]
    }
   ],
   "source": [
    "#Ejercicio 2\n",
    "Peso_producto_xg= 100\n",
    "precio_producto_100g=5.95\n",
    "peso_kg= 1000\n",
    "total_kilo_prod= precio_producto_100g * peso_kg\n",
    "\n",
    "print(total_kilo_prod)"
   ]
  },
  {
   "cell_type": "code",
   "execution_count": 41,
   "metadata": {},
   "outputs": [
    {
     "name": "stdout",
     "output_type": "stream",
     "text": [
      "411\n"
     ]
    }
   ],
   "source": [
    "#Ejercicio 3\n",
    "peces_rojos = 248\n",
    "peces_azules = 163\n",
    "Total_peces = peces_azules + peces_rojos\n",
    "print(Total_peces)"
   ]
  },
  {
   "cell_type": "code",
   "execution_count": 42,
   "metadata": {},
   "outputs": [
    {
     "name": "stdout",
     "output_type": "stream",
     "text": [
      "Carmen gasto en total: 10.25 €\n"
     ]
    }
   ],
   "source": [
    "#Ejercicio 4\n",
    "# #Para aprovechar el día del espectador, \n",
    "# Carmen decide ir al cine con sus amigos y \n",
    "# sale de su casa con 23€. Al regresar se da \n",
    "# cuenta que le quedan 12.75€ ¿Sabrías programar\n",
    "# cuánto se ha gastado?\n",
    "\n",
    "\n",
    "# Análisis del problema\n",
    "# ¿Qué me pide el problema?\n",
    "# ¿Qué datos necesito?\n",
    "# ¿Cómo debo responder?\n",
    "\n",
    "#Validar cuanto se gasto en la salida Carmen:\n",
    "#Necesitamos el valor con el que salio: 23€\n",
    "#Necesitamos el valor con el que quedo: 12.75€\n",
    "\n",
    "dinero_inicial = 23\n",
    "dinero_final = 12.75\n",
    "Gasto_total = dinero_inicial - dinero_final\n",
    "\n",
    "print(\"Carmen gasto en total:\", Gasto_total, \"€\") \n",
    "\n",
    "\n",
    "\n"
   ]
  },
  {
   "cell_type": "code",
   "execution_count": 43,
   "metadata": {},
   "outputs": [
    {
     "name": "stdout",
     "output_type": "stream",
     "text": [
      "66.0\n",
      "El valor a pagar es:  660\n"
     ]
    }
   ],
   "source": [
    "#Ejercicio 5\n",
    "\n",
    "costo_PC = 660\n",
    "descuento_PC = 10\n",
    "Descuento_total= costo_PC * descuento_PC /100\n",
    "precio_total = costo_PC - Descuento_total \n",
    "print(Descuento_total)\n",
    "\n",
    "\n",
    "pago =input(\"Digite SI en caso de realizar pronto pago \")\n",
    "if pago == \"SI\":\n",
    "  print (\"El valor a pagar es: \",  precio_total)\n",
    "else:\n",
    "  print(\"El valor a pagar es: \", costo_PC)\n"
   ]
  },
  {
   "cell_type": "code",
   "execution_count": 44,
   "metadata": {},
   "outputs": [
    {
     "name": "stdout",
     "output_type": "stream",
     "text": [
      "0.85\n",
      "El valor sin descuento es 40.0 €\n"
     ]
    }
   ],
   "source": [
    "#Ejercicio 6\n",
    "#Ejercicio 6\n",
    "# Análisis del problema\n",
    "# ¿Qué me pide el problema?\n",
    "# PRECIO DEL PRODUCTO ANTES DE DESCUENTO\n",
    "# ¿Qué datos necesito?\n",
    "# VALOR PRODUCTO CON DESCUENTO\n",
    "# DESCUENTO\n",
    "# FORMULA\n",
    "# ¿Cómo debo responder?\n",
    "# EL PRECIO TOTAL DEL PRODUCTO SIN DESCUENTO\n",
    "\n",
    "#PROCEDIMIENTO:\n",
    "#Dividir descuento entre 100: 15/100= 0.15\n",
    "#Restar 1 del porcentaje de descuento: 1-0.15 =0.85\n",
    "#Dividir valor producto con descuento / 0.85 = 40\n",
    "#Valor real sin descuento\n",
    "\n",
    "Valor_pant_desc= 34\n",
    "descuento = 15\n",
    "Valor1 = (1- (descuento /100) )\n",
    "\n",
    "print(Valor1)\n",
    "\n",
    "print(\"El valor sin descuento es\", Valor_pant_desc / Valor1, \"€\")\n",
    "\n"
   ]
  }
 ],
 "metadata": {
  "interpreter": {
   "hash": "e96c2b0958028904725b9c5959163be16aa80dd4e37e73d1a8ee465e3d04dc8c"
  },
  "kernelspec": {
   "display_name": "Python 3.10.2 64-bit",
   "language": "python",
   "name": "python3"
  },
  "language_info": {
   "codemirror_mode": {
    "name": "ipython",
    "version": 3
   },
   "file_extension": ".py",
   "mimetype": "text/x-python",
   "name": "python",
   "nbconvert_exporter": "python",
   "pygments_lexer": "ipython3",
   "version": "3.10.2"
  },
  "orig_nbformat": 4
 },
 "nbformat": 4,
 "nbformat_minor": 2
}
