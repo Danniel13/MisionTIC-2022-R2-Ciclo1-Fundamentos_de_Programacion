{
 "cells": [
  {
   "cell_type": "code",
   "execution_count": 16,
   "metadata": {},
   "outputs": [
    {
     "data": {
      "text/plain": [
       "'Su nota definitiva es 3.9, Pailangas'"
      ]
     },
     "execution_count": 16,
     "metadata": {},
     "output_type": "execute_result"
    }
   ],
   "source": [
    "#Ejercicio 1\n",
    "#1. Diseñe un algoritmo que reciba una nota definitiva \n",
    "# entre 0.0 y 5.0. El algoritmo debe imprimir el valor\n",
    "#  ingresado, y de ser una nota mayor o igual a 4.0,\n",
    "#  deberá imprimir un mensaje de felicitaciones.\n",
    "def nota_final(nota: float):\n",
    "  #Validación de parametros iniciales:\n",
    "  if not isinstance(nota, float):\n",
    "    return f\"La nota: {nota}, no es un dato valido. Debe ser decimal\"\n",
    "  if nota < 0.0 or nota > 5.0:\n",
    "    return f\"La nota {nota} no esta en el intervalo de 0.0 y 5.0\"\n",
    "  #Procesamiento\n",
    "  if nota >= 4.0:\n",
    "    mensaje =\"Felicitaciones :v\"\n",
    "  else:\n",
    "    mensaje=\"Pailangas\"\n",
    "\n",
    "  return f\"Su nota definitiva es {nota}, {mensaje}\"\n",
    "\n",
    "\n",
    "nota_final(3.9)\n"
   ]
  },
  {
   "cell_type": "code",
   "execution_count": 1,
   "metadata": {},
   "outputs": [
    {
     "data": {
      "text/plain": [
       "'El estudiante obtuvo una nota definitiva de: 3.5, por lo tanto Ganó el curso'"
      ]
     },
     "execution_count": 1,
     "metadata": {},
     "output_type": "execute_result"
    }
   ],
   "source": [
    "#1. Diseñe un algoritmo que reciba una nota\n",
    "#  definitiva entre 0.0 y 5.0. El algoritmo\n",
    "#  debe imprimir el valor ingresado, y un\n",
    "#  mensaje que indique si el estudiante\n",
    "#  “Ganó el curso” o “Perdió el curso”.\n",
    "#  Se gana el curso solo si la nota\n",
    "#  definitiva es mayor o igual a 3.0.\n",
    "\n",
    "\n",
    "def nota_definitiva(nota_def: float):\n",
    "  if not isinstance(nota_def, float):\n",
    "    return f\"La nota: {nota_def}, no es un dato valido. Debe ser decimal\"\n",
    "  if nota_def < 0.0 or nota_def > 5.0:\n",
    "    return f\"La nota: {nota_def} no esta en el intervalo establecido\"\n",
    "  \n",
    "\n",
    "  if nota_def >= 3.0:\n",
    "    mensaje=\"Ganó el curso\"\n",
    "  else:\n",
    "    mensaje=\"Perdió el curso\"\n",
    "\n",
    "  return f\"El estudiante obtuvo una nota definitiva de: {nota_def}, por lo tanto {mensaje}\"\n",
    "\n",
    "\n",
    "\n",
    "nota_definitiva(3.5)\n"
   ]
  },
  {
   "cell_type": "code",
   "execution_count": 13,
   "metadata": {},
   "outputs": [
    {
     "data": {
      "text/plain": [
       "'La persona con nombre Daniel, y edad 23 es Mayor de edad.'"
      ]
     },
     "execution_count": 13,
     "metadata": {},
     "output_type": "execute_result"
    }
   ],
   "source": [
    "#Ejercicio 3\n",
    "#1. Diseñe un algoritmo que permita solicitar tanto el \n",
    "# nombre como la edad de una persona y posteriormente \n",
    "# indicar si es “Mayor de edad” o “Menor de edad” según \n",
    "# la información ingresada. Una persona se considera mayor\n",
    "#  de edad si tiene 18 años o más.\n",
    "\n",
    "def datos1(nombre: str, edad: int):\n",
    "  if not isinstance(nombre, str):\n",
    "    return f\"El nombre: {nombre} es invalido, Introduzca un nombre válido\"\n",
    "  if not isinstance(edad, int):\n",
    "    return f\"La edad: {edad} es invalida, introduzca  un valor válido\"\n",
    "  if edad < 0:\n",
    "    return f\"La edad {edad}, no es valida, debe ser un valor positivo\"\n",
    "\n",
    "  if edad >= 18:\n",
    "    Mensaje= \"Mayor de edad\"\n",
    "  else:\n",
    "    Mensaje= \"Menor de edad\"\n",
    "\n",
    "  return f\"La persona con nombre {nombre}, y edad {edad} es {Mensaje}.\"\n",
    "\n",
    "\n",
    "\n",
    "#name = input (\"Por favor introduzca su nombre: \")\n",
    "#age = input (\"Por favor introduzca su edad\")\n",
    "\n",
    "datos1(\"Daniel\", 23)\n"
   ]
  },
  {
   "cell_type": "code",
   "execution_count": null,
   "metadata": {},
   "outputs": [],
   "source": []
  }
 ],
 "metadata": {
  "interpreter": {
   "hash": "ffa1133c21e95c04d090f84f5642658ed9c54c152275f940673cc7d4c15af7c2"
  },
  "kernelspec": {
   "display_name": "Python 3.10.2 64-bit",
   "language": "python",
   "name": "python3"
  },
  "language_info": {
   "codemirror_mode": {
    "name": "ipython",
    "version": 3
   },
   "file_extension": ".py",
   "mimetype": "text/x-python",
   "name": "python",
   "nbconvert_exporter": "python",
   "pygments_lexer": "ipython3",
   "version": "3.10.2"
  },
  "orig_nbformat": 4
 },
 "nbformat": 4,
 "nbformat_minor": 2
}
