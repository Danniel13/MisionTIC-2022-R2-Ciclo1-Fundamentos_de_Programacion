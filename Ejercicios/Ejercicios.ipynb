{
 "cells": [
  {
   "cell_type": "code",
   "execution_count": 23,
   "metadata": {},
   "outputs": [
    {
     "ename": "TypeError",
     "evalue": "'list' object is not callable",
     "output_type": "error",
     "traceback": [
      "\u001b[1;31m---------------------------------------------------------------------------\u001b[0m",
      "\u001b[1;31mTypeError\u001b[0m                                 Traceback (most recent call last)",
      "\u001b[1;32md:\\Users\\Danniel\\Documents\\D3r1ck\\Cursos\\Mision TIC 2022\\Programacion\\Repositorios Git\\MisionTIC-2022-R2-Ciclo1-Fundamentos_de_Programacion\\Ejercicios\\Ejercicios.ipynb Cell 1'\u001b[0m in \u001b[0;36m<cell line: 1>\u001b[1;34m()\u001b[0m\n\u001b[1;32m----> <a href='vscode-notebook-cell:/d%3A/Users/Danniel/Documents/D3r1ck/Cursos/Mision%20TIC%202022/Programacion/Repositorios%20Git/MisionTIC-2022-R2-Ciclo1-Fundamentos_de_Programacion/Ejercicios/Ejercicios.ipynb#ch0000000?line=0'>1</a>\u001b[0m x \u001b[39m=\u001b[39m \u001b[39mlist\u001b[39;49m(\u001b[39mrange\u001b[39;49m(\u001b[39m10\u001b[39;49m))\n\u001b[0;32m      <a href='vscode-notebook-cell:/d%3A/Users/Danniel/Documents/D3r1ck/Cursos/Mision%20TIC%202022/Programacion/Repositorios%20Git/MisionTIC-2022-R2-Ciclo1-Fundamentos_de_Programacion/Ejercicios/Ejercicios.ipynb#ch0000000?line=1'>2</a>\u001b[0m \u001b[39mprint\u001b[39m(x)\n\u001b[0;32m      <a href='vscode-notebook-cell:/d%3A/Users/Danniel/Documents/D3r1ck/Cursos/Mision%20TIC%202022/Programacion/Repositorios%20Git/MisionTIC-2022-R2-Ciclo1-Fundamentos_de_Programacion/Ejercicios/Ejercicios.ipynb#ch0000000?line=2'>3</a>\u001b[0m \u001b[39mprint\u001b[39m(x[\u001b[39m9\u001b[39m])\n",
      "\u001b[1;31mTypeError\u001b[0m: 'list' object is not callable"
     ]
    }
   ],
   "source": [
    "x = list(range(10))\n",
    "print(x)\n",
    "print(x[9])"
   ]
  },
  {
   "cell_type": "code",
   "execution_count": null,
   "metadata": {},
   "outputs": [
    {
     "name": "stdout",
     "output_type": "stream",
     "text": [
      "[3, 4, 5, 6, 7]\n"
     ]
    }
   ],
   "source": [
    "numbers = list(range(3,8))\n",
    "print(numbers)"
   ]
  },
  {
   "cell_type": "code",
   "execution_count": 36,
   "metadata": {},
   "outputs": [
    {
     "name": "stdout",
     "output_type": "stream",
     "text": [
      "[0, 1, 4]\n"
     ]
    }
   ],
   "source": [
    "sqs = [0, 1, 4, 9, 16, 25, 36, 49, 64, 81]\n",
    "print(sqs[0:3])"
   ]
  },
  {
   "cell_type": "code",
   "execution_count": 37,
   "metadata": {},
   "outputs": [
    {
     "data": {
      "text/plain": [
       "('a', 'm', 'e')"
      ]
     },
     "execution_count": 37,
     "metadata": {},
     "output_type": "execute_result"
    }
   ],
   "source": [
    "names = (\"n\", \"a\", \"m\", \"e\", \"s\")\n",
    "names[1:-1]\n"
   ]
  },
  {
   "cell_type": "code",
   "execution_count": 38,
   "metadata": {},
   "outputs": [
    {
     "ename": "TypeError",
     "evalue": "'type' object is not subscriptable",
     "output_type": "error",
     "traceback": [
      "\u001b[1;31m---------------------------------------------------------------------------\u001b[0m",
      "\u001b[1;31mTypeError\u001b[0m                                 Traceback (most recent call last)",
      "\u001b[1;32md:\\Users\\Danniel\\Documents\\D3r1ck\\Cursos\\Mision TIC 2022\\Programacion\\Repositorios Git\\MisionTIC-2022-R2-Ciclo1-Fundamentos_de_Programacion\\Ejercicios\\Ejercicios.ipynb Cell 5'\u001b[0m in \u001b[0;36m<cell line: 2>\u001b[1;34m()\u001b[0m\n\u001b[0;32m      <a href='vscode-notebook-cell:/d%3A/Users/Danniel/Documents/D3r1ck/Cursos/Mision%20TIC%202022/Programacion/Repositorios%20Git/MisionTIC-2022-R2-Ciclo1-Fundamentos_de_Programacion/Ejercicios/Ejercicios.ipynb#ch0000004?line=0'>1</a>\u001b[0m num \u001b[39m=\u001b[39m \u001b[39m5\u001b[39m\n\u001b[1;32m----> <a href='vscode-notebook-cell:/d%3A/Users/Danniel/Documents/D3r1ck/Cursos/Mision%20TIC%202022/Programacion/Repositorios%20Git/MisionTIC-2022-R2-Ciclo1-Fundamentos_de_Programacion/Ejercicios/Ejercicios.ipynb#ch0000004?line=1'>2</a>\u001b[0m factn\u001b[39m=\u001b[39m \u001b[39mlist\u001b[39m(\u001b[39mrange\u001b[39;49m[\u001b[39m1\u001b[39;49m,num])\n\u001b[0;32m      <a href='vscode-notebook-cell:/d%3A/Users/Danniel/Documents/D3r1ck/Cursos/Mision%20TIC%202022/Programacion/Repositorios%20Git/MisionTIC-2022-R2-Ciclo1-Fundamentos_de_Programacion/Ejercicios/Ejercicios.ipynb#ch0000004?line=2'>3</a>\u001b[0m \u001b[39mprint\u001b[39m (factn)\n",
      "\u001b[1;31mTypeError\u001b[0m: 'type' object is not subscriptable"
     ]
    }
   ],
   "source": [
    "num = 5\n",
    "factn= list(range[1,num])\n",
    "print (factn)"
   ]
  },
  {
   "cell_type": "code",
   "execution_count": null,
   "metadata": {},
   "outputs": [
    {
     "name": "stdout",
     "output_type": "stream",
     "text": [
      "5\n",
      "8\n"
     ]
    }
   ],
   "source": [
    "list = [1, 1, 2, 3, 5, 8, 13]\n",
    "#print(list[list])\n",
    "print(list[4])\n",
    "print(list[list[4]])"
   ]
  },
  {
   "cell_type": "code",
   "execution_count": null,
   "metadata": {},
   "outputs": [
    {
     "name": "stdout",
     "output_type": "stream",
     "text": [
      "2\n",
      "4\n",
      "6\n",
      "8\n",
      "10\n"
     ]
    }
   ],
   "source": [
    "for i in range(10):\n",
    "  if not i % 2 == 0:\n",
    "    print(i+1)"
   ]
  },
  {
   "cell_type": "code",
   "execution_count": 27,
   "metadata": {},
   "outputs": [
    {
     "ename": "TypeError",
     "evalue": "'types.GenericAlias' object cannot be interpreted as an integer",
     "output_type": "error",
     "traceback": [
      "\u001b[1;31m---------------------------------------------------------------------------\u001b[0m",
      "\u001b[1;31mTypeError\u001b[0m                                 Traceback (most recent call last)",
      "\u001b[1;32md:\\Users\\Danniel\\Documents\\D3r1ck\\Cursos\\Mision TIC 2022\\Programacion\\Repositorios Git\\MisionTIC-2022-R2-Ciclo1-Fundamentos_de_Programacion\\Ejercicios\\Ejercicios.ipynb Cell 8'\u001b[0m in \u001b[0;36m<cell line: 3>\u001b[1;34m()\u001b[0m\n\u001b[0;32m      <a href='vscode-notebook-cell:/d%3A/Users/Danniel/Documents/D3r1ck/Cursos/Mision%20TIC%202022/Programacion/Repositorios%20Git/MisionTIC-2022-R2-Ciclo1-Fundamentos_de_Programacion/Ejercicios/Ejercicios.ipynb#ch0000007?line=0'>1</a>\u001b[0m N \u001b[39m=\u001b[39m \u001b[39mint\u001b[39m(\u001b[39minput\u001b[39m())\n\u001b[0;32m      <a href='vscode-notebook-cell:/d%3A/Users/Danniel/Documents/D3r1ck/Cursos/Mision%20TIC%202022/Programacion/Repositorios%20Git/MisionTIC-2022-R2-Ciclo1-Fundamentos_de_Programacion/Ejercicios/Ejercicios.ipynb#ch0000007?line=1'>2</a>\u001b[0m resultado \u001b[39m=\u001b[39m \u001b[39m0\u001b[39m\n\u001b[1;32m----> <a href='vscode-notebook-cell:/d%3A/Users/Danniel/Documents/D3r1ck/Cursos/Mision%20TIC%202022/Programacion/Repositorios%20Git/MisionTIC-2022-R2-Ciclo1-Fundamentos_de_Programacion/Ejercicios/Ejercicios.ipynb#ch0000007?line=2'>3</a>\u001b[0m A \u001b[39m=\u001b[39m (\u001b[39mrange\u001b[39;49m(\u001b[39mlist\u001b[39;49m[\u001b[39m1\u001b[39;49m, N]))\n\u001b[0;32m      <a href='vscode-notebook-cell:/d%3A/Users/Danniel/Documents/D3r1ck/Cursos/Mision%20TIC%202022/Programacion/Repositorios%20Git/MisionTIC-2022-R2-Ciclo1-Fundamentos_de_Programacion/Ejercicios/Ejercicios.ipynb#ch0000007?line=3'>4</a>\u001b[0m \u001b[39mfor\u001b[39;00m y \u001b[39min\u001b[39;00m A:\n\u001b[0;32m      <a href='vscode-notebook-cell:/d%3A/Users/Danniel/Documents/D3r1ck/Cursos/Mision%20TIC%202022/Programacion/Repositorios%20Git/MisionTIC-2022-R2-Ciclo1-Fundamentos_de_Programacion/Ejercicios/Ejercicios.ipynb#ch0000007?line=4'>5</a>\u001b[0m   resultado \u001b[39m+\u001b[39m\u001b[39m=\u001b[39m \u001b[39m1\u001b[39m\n",
      "\u001b[1;31mTypeError\u001b[0m: 'types.GenericAlias' object cannot be interpreted as an integer"
     ]
    }
   ],
   "source": [
    "N = int(input())\n",
    "resultado = 0\n",
    "A = (range(list[1, N]))\n",
    "for y in A:\n",
    "  resultado += 1\n",
    "\n",
    "  print(y)\n",
    "print (A)\n",
    "#SUMA CONSECUTIVA DE UN NUMERO:\n",
    "\n"
   ]
  },
  {
   "cell_type": "code",
   "execution_count": 29,
   "metadata": {},
   "outputs": [
    {
     "name": "stdout",
     "output_type": "stream",
     "text": [
      "[1, 2, 3, 4, 5, 6, 7, 8, 9, 10]\n",
      "55\n"
     ]
    }
   ],
   "source": [
    "#Suma de numero 1 hasta numero N USANDO \"SUM\":\n",
    "Num= 10\n",
    "A= range(1, Num+1)\n",
    "B=list(A)\n",
    "Sumalista = sum(B)\n",
    "print (B)\n",
    "print (Sumalista)\n",
    "    #print(listsum)"
   ]
  },
  {
   "cell_type": "code",
   "execution_count": 34,
   "metadata": {},
   "outputs": [
    {
     "name": "stdout",
     "output_type": "stream",
     "text": [
      "11\n",
      "[0, 1, 2, 3, 4, 5, 6, 7, 8, 9, 10]\n",
      "55\n"
     ]
    }
   ],
   "source": [
    "#SUMAR DESDE EL NUMERO 1 HASTA EL NUMERO INGRESADO \n",
    "#FOR:\n",
    "N = 10#int(input())\n",
    "#tu código va aquí\n",
    "N+=1\n",
    "print(N)\n",
    "N=list(range(N))\n",
    "print(N)\n",
    "total=0\n",
    "for i in N:\n",
    "    total+= N[i]\n",
    "print (total)"
   ]
  },
  {
   "cell_type": "code",
   "execution_count": 35,
   "metadata": {},
   "outputs": [],
   "source": [
    "#SUMAR DESDE EL NUMERO 1 HASTA EL NUMERO INGRESADO \n",
    "#FUNCION MATH: :"
   ]
  }
 ],
 "metadata": {
  "interpreter": {
   "hash": "ffa1133c21e95c04d090f84f5642658ed9c54c152275f940673cc7d4c15af7c2"
  },
  "kernelspec": {
   "display_name": "Python 3.10.2 64-bit",
   "language": "python",
   "name": "python3"
  },
  "language_info": {
   "codemirror_mode": {
    "name": "ipython",
    "version": 3
   },
   "file_extension": ".py",
   "mimetype": "text/x-python",
   "name": "python",
   "nbconvert_exporter": "python",
   "pygments_lexer": "ipython3",
   "version": "3.10.2"
  },
  "orig_nbformat": 4
 },
 "nbformat": 4,
 "nbformat_minor": 2
}
